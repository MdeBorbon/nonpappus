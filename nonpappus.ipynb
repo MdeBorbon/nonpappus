{
 "cells": [
  {
   "cell_type": "markdown",
   "id": "14abed91-1692-4851-bf91-f5b12a04f117",
   "metadata": {},
   "source": [
    "## Maximum of a quadratic form on the positive octant of the unit sphere (general theory)"
   ]
  },
  {
   "cell_type": "markdown",
   "id": "8e5ee57f-6be1-461c-ad5c-0a8e9f52e29e",
   "metadata": {},
   "source": [
    "Let $Q$ be a real symmetric $(n\\times n)$-matrix of a quadratic form $q: \\mathbb{R}^n \\to \\mathbb{R}$ .\n",
    "\n",
    "A principal $(d\\times d)$-submatrix of $Q$ is formed by selecting a subset of $d$ rows and the same subset of columns from $Q$. \n",
    "\n",
    "A linear subspace $V \\subset \\mathbb{R}^d$ intersects the positive octant if there is a vector $\\mathbf{v} \\in V$ such that $v_i >0$ for all $i$, where $v_i$ are the components of $\\mathbf{v} = (v_1, \\ldots, v_d)$.\n",
    "\n",
    "We say that an eigenvalue of a principal $(d \\times d)$-submatrix of $Q$ is *feasible* if its eigenspace intersects the positive octant."
   ]
  },
  {
   "cell_type": "markdown",
   "id": "25f90c82-3615-48ff-9e05-24523767961d",
   "metadata": {},
   "source": [
    "**Theorem 1:** The maximum value of the quadratic form $q: \\mathbb{R}^n \\to \\mathbb{R}$ on the closed positive octant of the unit sphere\n",
    "$$\\Delta:= \\{\\mathbf{x} \\in\n",
    " \\mathbb{R}^n \\,|\\, x_i \\geq 0\\} \\cap S^{n-1}$$ \n",
    " is equal to the maximum of all feasible eigenvalues of all principal $(d \\times d)$-submatrices of $Q$ for $1 \\leq d \\leq n$."
   ]
  },
  {
   "cell_type": "markdown",
   "id": "f4b90228-a671-4f7c-94eb-31464d984a62",
   "metadata": {},
   "source": [
    "*Proof:* Starting with $d=1$, the maximum value of all diagonal elements of $Q$ is equal to the maximum $m_0$ of the quadratic form $q$ at the vertices\n",
    "$\\mathbf{e}_1, \\ldots, \\mathbf{e}_n$ of $\\Delta$. \n",
    "\n",
    "Let $\\delta$ be an edge of $\\Delta$ connecting the vertices $\\mathbf{e}_i$ and $\\mathbf{e}_j$.\n",
    "If $q$ attains a value $m_1 > m_0$ on $\\delta$ , then $m_1$ is a feasible eigenvalue of the principal $(2\\times 2)$-submatrix of $Q$ defined by $\\{i,j\\} \\subset \\{1, \\ldots, n\\}$. \n",
    "\n",
    "Taking faces of $\\Delta$ of dimensions $2, 3, \\ldots, n$ and arguing as above, the statement follows. $\\square$"
   ]
  },
  {
   "cell_type": "markdown",
   "id": "840e9c72-3b3a-4ee6-8a39-0d84fe3309c6",
   "metadata": {},
   "source": [
    "## The Hirzebruch quadratic form of the Non-Pappus matroid"
   ]
  },
  {
   "cell_type": "code",
   "execution_count": 1,
   "id": "37903fc8-88d7-4f5b-99ce-2cde1cb9dc06",
   "metadata": {},
   "outputs": [],
   "source": [
    "%display latex"
   ]
  },
  {
   "cell_type": "markdown",
   "id": "58d97ef9-8c4b-4aed-8d34-9bcc0573be03",
   "metadata": {},
   "source": [
    "The matrix $Q$ of the Hirzebruch quadratic form of the Non-Pappus arrangement is given by "
   ]
  },
  {
   "cell_type": "code",
   "execution_count": 2,
   "id": "0cc63ca1-88ff-4c2c-81fa-01eba58f3230",
   "metadata": {},
   "outputs": [
    {
     "data": {
      "text/html": [
       "<html>\\(\\displaystyle \\left(\\begin{array}{rrrrrrrrr}\n",
       "-5 & 1 & 1 & -2 & 1 & 1 & 1 & 1 & -2 \\\\\n",
       "1 & -5 & 1 & 1 & -2 & 1 & 1 & -2 & 1 \\\\\n",
       "1 & 1 & -5 & 1 & 1 & -2 & -2 & 1 & 1 \\\\\n",
       "-2 & 1 & 1 & -5 & 1 & 1 & 1 & 1 & -2 \\\\\n",
       "1 & -2 & 1 & 1 & -5 & 1 & 1 & -2 & 1 \\\\\n",
       "1 & 1 & -2 & 1 & 1 & -5 & -2 & 1 & 1 \\\\\n",
       "1 & 1 & -2 & 1 & 1 & -2 & -2 & -2 & -2 \\\\\n",
       "1 & -2 & 1 & 1 & -2 & 1 & -2 & -2 & -2 \\\\\n",
       "-2 & 1 & 1 & -2 & 1 & 1 & -2 & -2 & -2\n",
       "\\end{array}\\right)\\)</html>"
      ],
      "text/latex": [
       "$\\displaystyle \\left(\\begin{array}{rrrrrrrrr}\n",
       "-5 & 1 & 1 & -2 & 1 & 1 & 1 & 1 & -2 \\\\\n",
       "1 & -5 & 1 & 1 & -2 & 1 & 1 & -2 & 1 \\\\\n",
       "1 & 1 & -5 & 1 & 1 & -2 & -2 & 1 & 1 \\\\\n",
       "-2 & 1 & 1 & -5 & 1 & 1 & 1 & 1 & -2 \\\\\n",
       "1 & -2 & 1 & 1 & -5 & 1 & 1 & -2 & 1 \\\\\n",
       "1 & 1 & -2 & 1 & 1 & -5 & -2 & 1 & 1 \\\\\n",
       "1 & 1 & -2 & 1 & 1 & -2 & -2 & -2 & -2 \\\\\n",
       "1 & -2 & 1 & 1 & -2 & 1 & -2 & -2 & -2 \\\\\n",
       "-2 & 1 & 1 & -2 & 1 & 1 & -2 & -2 & -2\n",
       "\\end{array}\\right)$"
      ],
      "text/plain": [
       "[-5  1  1 -2  1  1  1  1 -2]\n",
       "[ 1 -5  1  1 -2  1  1 -2  1]\n",
       "[ 1  1 -5  1  1 -2 -2  1  1]\n",
       "[-2  1  1 -5  1  1  1  1 -2]\n",
       "[ 1 -2  1  1 -5  1  1 -2  1]\n",
       "[ 1  1 -2  1  1 -5 -2  1  1]\n",
       "[ 1  1 -2  1  1 -2 -2 -2 -2]\n",
       "[ 1 -2  1  1 -2  1 -2 -2 -2]\n",
       "[-2  1  1 -2  1  1 -2 -2 -2]"
      ]
     },
     "execution_count": 2,
     "metadata": {},
     "output_type": "execute_result"
    }
   ],
   "source": [
    "Q = matrix([\n",
    "    [-5, 1, 1, -2, 1, 1, 1, 1, -2],\n",
    "    [1, -5, 1, 1, -2, 1, 1, -2, 1],\n",
    "    [1, 1, -5, 1, 1, -2, -2, 1, 1],\n",
    "    [-2, 1, 1, -5, 1, 1, 1, 1, -2],\n",
    "    [1, -2, 1, 1, -5, 1, 1, -2, 1],\n",
    "    [1, 1, -2, 1, 1, -5, -2, 1, 1],\n",
    "    [1, 1, -2, 1, 1, -2, -2, -2, -2],\n",
    "    [1, -2, 1, 1, -2, 1, -2, -2, -2],\n",
    "    [-2, 1, 1, -2, 1, 1, -2, -2, -2]\n",
    "]); Q"
   ]
  },
  {
   "cell_type": "code",
   "execution_count": 3,
   "id": "ffa74502-6166-49a3-9f1f-638ac4d873de",
   "metadata": {},
   "outputs": [
    {
     "data": {
      "text/html": [
       "<html>\\(\\displaystyle \\left(9, 9\\right)\\)</html>"
      ],
      "text/latex": [
       "$\\displaystyle \\left(9, 9\\right)$"
      ],
      "text/plain": [
       "(9, 9)"
      ]
     },
     "execution_count": 3,
     "metadata": {},
     "output_type": "execute_result"
    }
   ],
   "source": [
    "Q.dimensions()"
   ]
  },
  {
   "cell_type": "code",
   "execution_count": 4,
   "id": "750c3f9e-217a-4e48-9686-9f23d66bd500",
   "metadata": {},
   "outputs": [
    {
     "data": {
      "text/html": [
       "<html>\\(\\displaystyle \\mathrm{True}\\)</html>"
      ],
      "text/latex": [
       "$\\displaystyle \\mathrm{True}$"
      ],
      "text/plain": [
       "True"
      ]
     },
     "execution_count": 4,
     "metadata": {},
     "output_type": "execute_result"
    }
   ],
   "source": [
    "Q.is_symmetric()"
   ]
  },
  {
   "cell_type": "markdown",
   "id": "963748e8-be86-4af0-aae9-256368d23c9a",
   "metadata": {},
   "source": [
    "The characteristic polynomial of $Q$ is:"
   ]
  },
  {
   "cell_type": "code",
   "execution_count": 5,
   "id": "f98d11b9-9ca2-4f0a-9e4d-9a08558bf4c2",
   "metadata": {},
   "outputs": [
    {
     "data": {
      "text/html": [
       "<html>\\(\\displaystyle (x + 6) \\cdot (x + 3)^{4} \\cdot (x^{2} + 9x - 18)^{2}\\)</html>"
      ],
      "text/latex": [
       "$\\displaystyle (x + 6) \\cdot (x + 3)^{4} \\cdot (x^{2} + 9x - 18)^{2}$"
      ],
      "text/plain": [
       "(x + 6) * (x + 3)^4 * (x^2 + 9*x - 18)^2"
      ]
     },
     "execution_count": 5,
     "metadata": {},
     "output_type": "execute_result"
    }
   ],
   "source": [
    "charpolQ = Q.characteristic_polynomial().factor(); charpolQ"
   ]
  },
  {
   "cell_type": "markdown",
   "id": "4b1b409b-8efd-40e5-928b-530749ff9d3e",
   "metadata": {},
   "source": [
    "The eigenvalues, multiplicities, and eigenspaces of $Q$ in increasing order are given as follows"
   ]
  },
  {
   "cell_type": "code",
   "execution_count": 6,
   "id": "7cd27661-4b4e-41ce-9104-0528d4b1d88b",
   "metadata": {},
   "outputs": [],
   "source": [
    "eigQ = Q.eigenvectors_left()\n",
    "eigQ.sort()"
   ]
  },
  {
   "cell_type": "code",
   "execution_count": 7,
   "id": "ba1bbf66-6217-41d5-ba12-1b35a5ed1e7a",
   "metadata": {},
   "outputs": [
    {
     "name": "stdout",
     "output_type": "stream",
     "text": [
      "Eigenvalue: -10.68465843842650?\n",
      "Multiplicity: 2\n",
      "Eigenvectors: \n"
     ]
    },
    {
     "data": {
      "text/html": [
       "<html>\\(\\displaystyle \\left[\\left(1,\\,0,\\,-1,\\,1,\\,0,\\,-1,\\,-0.5615528128088302?,\\,0,\\,0.5615528128088302?\\right), \\left(0,\\,1,\\,-1,\\,0,\\,1,\\,-1,\\,-0.5615528128088302?,\\,0.5615528128088302?,\\,0\\right)\\right]\\)</html>"
      ],
      "text/latex": [
       "$\\displaystyle \\left[\\left(1,\\,0,\\,-1,\\,1,\\,0,\\,-1,\\,-0.5615528128088302?,\\,0,\\,0.5615528128088302?\\right), \\left(0,\\,1,\\,-1,\\,0,\\,1,\\,-1,\\,-0.5615528128088302?,\\,0.5615528128088302?,\\,0\\right)\\right]$"
      ],
      "text/plain": [
       "[(1, 0, -1, 1, 0, -1, -0.5615528128088302?, 0, 0.5615528128088302?),\n",
       " (0, 1, -1, 0, 1, -1, -0.5615528128088302?, 0.5615528128088302?, 0)]"
      ]
     },
     "metadata": {},
     "output_type": "display_data"
    },
    {
     "name": "stdout",
     "output_type": "stream",
     "text": [
      "\n",
      "Eigenvalue: -6\n",
      "Multiplicity: 1\n",
      "Eigenvectors: \n"
     ]
    },
    {
     "data": {
      "text/html": [
       "<html>\\(\\displaystyle \\left[\\left(0,\\,0,\\,0,\\,0,\\,0,\\,0,\\,1,\\,1,\\,1\\right)\\right]\\)</html>"
      ],
      "text/latex": [
       "$\\displaystyle \\left[\\left(0,\\,0,\\,0,\\,0,\\,0,\\,0,\\,1,\\,1,\\,1\\right)\\right]$"
      ],
      "text/plain": [
       "[\n",
       "(0, 0, 0, 0, 0, 0, 1, 1, 1)\n",
       "]"
      ]
     },
     "metadata": {},
     "output_type": "display_data"
    },
    {
     "name": "stdout",
     "output_type": "stream",
     "text": [
      "\n",
      "Eigenvalue: -3\n",
      "Multiplicity: 4\n",
      "Eigenvectors: \n"
     ]
    },
    {
     "data": {
      "text/html": [
       "<html>\\(\\displaystyle \\left[\\left(1,\\,0,\\,0,\\,0,\\,1,\\,1,\\,0,\\,0,\\,0\\right), \\left(0,\\,1,\\,0,\\,0,\\,-1,\\,0,\\,0,\\,0,\\,0\\right), \\left(0,\\,0,\\,1,\\,0,\\,0,\\,-1,\\,0,\\,0,\\,0\\right), \\left(0,\\,0,\\,0,\\,1,\\,1,\\,1,\\,0,\\,0,\\,0\\right)\\right]\\)</html>"
      ],
      "text/latex": [
       "$\\displaystyle \\left[\\left(1,\\,0,\\,0,\\,0,\\,1,\\,1,\\,0,\\,0,\\,0\\right), \\left(0,\\,1,\\,0,\\,0,\\,-1,\\,0,\\,0,\\,0,\\,0\\right), \\left(0,\\,0,\\,1,\\,0,\\,0,\\,-1,\\,0,\\,0,\\,0\\right), \\left(0,\\,0,\\,0,\\,1,\\,1,\\,1,\\,0,\\,0,\\,0\\right)\\right]$"
      ],
      "text/plain": [
       "[\n",
       "(1, 0, 0, 0, 1, 1, 0, 0, 0),\n",
       "(0, 1, 0, 0, -1, 0, 0, 0, 0),\n",
       "(0, 0, 1, 0, 0, -1, 0, 0, 0),\n",
       "(0, 0, 0, 1, 1, 1, 0, 0, 0)\n",
       "]"
      ]
     },
     "metadata": {},
     "output_type": "display_data"
    },
    {
     "name": "stdout",
     "output_type": "stream",
     "text": [
      "\n",
      "Eigenvalue: 1.684658438426491?\n",
      "Multiplicity: 2\n",
      "Eigenvectors: \n"
     ]
    },
    {
     "data": {
      "text/html": [
       "<html>\\(\\displaystyle \\left[\\left(1,\\,0,\\,-1,\\,1,\\,0,\\,-1,\\,3.561552812808830?,\\,0,\\,-3.561552812808830?\\right), \\left(0,\\,1,\\,-1,\\,0,\\,1,\\,-1,\\,3.561552812808830?,\\,-3.561552812808830?,\\,0\\right)\\right]\\)</html>"
      ],
      "text/latex": [
       "$\\displaystyle \\left[\\left(1,\\,0,\\,-1,\\,1,\\,0,\\,-1,\\,3.561552812808830?,\\,0,\\,-3.561552812808830?\\right), \\left(0,\\,1,\\,-1,\\,0,\\,1,\\,-1,\\,3.561552812808830?,\\,-3.561552812808830?,\\,0\\right)\\right]$"
      ],
      "text/plain": [
       "[(1, 0, -1, 1, 0, -1, 3.561552812808830?, 0, -3.561552812808830?),\n",
       " (0, 1, -1, 0, 1, -1, 3.561552812808830?, -3.561552812808830?, 0)]"
      ]
     },
     "metadata": {},
     "output_type": "display_data"
    },
    {
     "name": "stdout",
     "output_type": "stream",
     "text": [
      "\n"
     ]
    }
   ],
   "source": [
    "for e in eigQ:\n",
    "    print(f\"Eigenvalue: {e[0]}\")\n",
    "    print(f\"Multiplicity: {e[-1]}\")\n",
    "    print(\"Eigenvectors: \")\n",
    "    display(e[1])\n",
    "    print()"
   ]
  },
  {
   "cell_type": "markdown",
   "id": "8493ca3a-8b34-40d6-9dff-e46089a5c0a0",
   "metadata": {},
   "source": [
    "In particular, the quadratic form $q: \\mathbb{R}^9 \\to \\mathbb{R}$ is non-degenerate and has signature $(2,7)$."
   ]
  },
  {
   "cell_type": "markdown",
   "id": "b7c30a15-1093-4553-88fb-75db15105d37",
   "metadata": {},
   "source": [
    "#### The eigenvalues and eigenvector components are algebraic numbers"
   ]
  },
  {
   "cell_type": "markdown",
   "id": "01cb5482-c553-4dbe-9a5b-09320883ae94",
   "metadata": {},
   "source": [
    "The lowest eigenvalue is $\\approx -10.68$"
   ]
  },
  {
   "cell_type": "code",
   "execution_count": 8,
   "id": "a9877f63-d8e9-4ff9-b154-71e8b50ba231",
   "metadata": {},
   "outputs": [
    {
     "data": {
      "text/html": [
       "<html>\\(\\displaystyle -10.68465843842650?\\)</html>"
      ],
      "text/latex": [
       "$\\displaystyle -10.68465843842650?$"
      ],
      "text/plain": [
       "-10.68465843842650?"
      ]
     },
     "execution_count": 8,
     "metadata": {},
     "output_type": "execute_result"
    }
   ],
   "source": [
    "lowest_eigenval_Q = eigQ[0][0]; lowest_eigenval_Q"
   ]
  },
  {
   "cell_type": "markdown",
   "id": "66ae8756-1966-4bef-babc-08809f8a3292",
   "metadata": {},
   "source": [
    "Numbers ending in question marks are algebraic"
   ]
  },
  {
   "cell_type": "code",
   "execution_count": 9,
   "id": "42ef95e3-66e7-4ec3-b0cb-184694dd618c",
   "metadata": {},
   "outputs": [
    {
     "data": {
      "text/html": [
       "<html>\\(\\displaystyle \\verb|&lt;class|\\verb| |\\verb|'sage.rings.qqbar.AlgebraicNumber'>|\\)</html>"
      ],
      "text/latex": [
       "$\\displaystyle \\verb|<class|\\verb| |\\verb|'sage.rings.qqbar.AlgebraicNumber'>|$"
      ],
      "text/plain": [
       "<class 'sage.rings.qqbar.AlgebraicNumber'>"
      ]
     },
     "execution_count": 9,
     "metadata": {},
     "output_type": "execute_result"
    }
   ],
   "source": [
    "type(lowest_eigenval_Q)"
   ]
  },
  {
   "cell_type": "markdown",
   "id": "0d92502a-792e-4a9f-bbec-5047bf9ae9ee",
   "metadata": {},
   "source": [
    "The radical expression of `lowest_eigenval_Q` is"
   ]
  },
  {
   "cell_type": "code",
   "execution_count": 10,
   "id": "77e3822c-de4e-4d7a-be98-f35cc63f0d50",
   "metadata": {},
   "outputs": [
    {
     "data": {
      "text/html": [
       "<html>\\(\\displaystyle -\\frac{3}{2} \\, \\sqrt{17} - \\frac{9}{2}\\)</html>"
      ],
      "text/latex": [
       "$\\displaystyle -\\frac{3}{2} \\, \\sqrt{17} - \\frac{9}{2}$"
      ],
      "text/plain": [
       "-3/2*sqrt(17) - 9/2"
      ]
     },
     "execution_count": 10,
     "metadata": {},
     "output_type": "execute_result"
    }
   ],
   "source": [
    "lowest_eigenval_Q.radical_expression()"
   ]
  },
  {
   "cell_type": "markdown",
   "id": "b286af27-cef1-4e47-8eeb-1e6e74e5d3c5",
   "metadata": {},
   "source": [
    "Similarly, the highest eigenvalue is $\\approx 1.68$"
   ]
  },
  {
   "cell_type": "code",
   "execution_count": 11,
   "id": "ee4f4c71-0369-450c-a52f-4c88a62d4275",
   "metadata": {},
   "outputs": [
    {
     "data": {
      "text/html": [
       "<html>\\(\\displaystyle \\frac{3}{2} \\, \\sqrt{17} - \\frac{9}{2}\\)</html>"
      ],
      "text/latex": [
       "$\\displaystyle \\frac{3}{2} \\, \\sqrt{17} - \\frac{9}{2}$"
      ],
      "text/plain": [
       "3/2*sqrt(17) - 9/2"
      ]
     },
     "metadata": {},
     "output_type": "display_data"
    },
    {
     "name": "stdout",
     "output_type": "stream",
     "text": [
      "= 1.684658438426491?\n"
     ]
    }
   ],
   "source": [
    "highest_eigenval_Q = eigQ[-1][0] \n",
    "display(highest_eigenval_Q.radical_expression())\n",
    "print(f\"= {highest_eigenval_Q}\")"
   ]
  },
  {
   "cell_type": "markdown",
   "id": "b506540d-0b2b-4ddd-a610-070c144d514b",
   "metadata": {},
   "source": [
    "The lowest and highest eigenvalues of $Q$ are the roots of the polynomial $x^2+9x-18$ , the only factor of the characteristic polynomial that does not split over $\\mathbb{Q}$"
   ]
  },
  {
   "cell_type": "markdown",
   "id": "e690f1b8-12a1-44b6-a228-c956fa3648a1",
   "metadata": {},
   "source": [
    "## Intersection of a subspace with the positive octant"
   ]
  },
  {
   "cell_type": "markdown",
   "id": "cf0857b5-19a4-4691-a043-63f2cc1503de",
   "metadata": {},
   "source": [
    "Let $\\mathbf{v}_1, \\ldots, \\mathbf{v}_k$ be vectors in $\\mathbb{R}^n$.\n",
    "\n",
    "We say that a linear combination $\\mathbf{v} = \\sum_{i=1}^k c_i \\mathbf{v}$ is positive\n",
    "if $\\mathbf{v} \\in \\mathbb{R}^n_{>0}$ .\n",
    "\n",
    "The next function returns the coefficients $c_1, \\ldots, c_k$ of a positive linear combination.\n",
    "\n",
    "It returns the empty list if no such combination exists."
   ]
  },
  {
   "cell_type": "code",
   "execution_count": 12,
   "id": "b4beb9e6-2c43-4039-95a0-6e31078775eb",
   "metadata": {},
   "outputs": [],
   "source": [
    "def positive_linear_combination(vectors):\n",
    "    '''\n",
    "    Input: list of vectors\n",
    "    Return: list of coefficients of a positive linear combination, \n",
    "    if there is no positive combination then it returns an empty list\n",
    "    '''\n",
    "    \n",
    "    # Form a matrix with the input vectors as columns\n",
    "    A = matrix(vectors).transpose()\n",
    "\n",
    "    # n is the dimension of the vector space and k is the number of vectors\n",
    "    n, k = A.dimensions()\n",
    "    \n",
    "    # Initialize the linear program\n",
    "    p = MixedIntegerLinearProgram()\n",
    "    c = p.new_variable(real=True)  # Coefficients can be arbitrary\n",
    "\n",
    "    # Set a dummy objective function (optimize for 0)\n",
    "    p.set_objective(0)\n",
    "\n",
    "    # Add constraints to ensure that each component of the result is positive\n",
    "    for i in range(n):\n",
    "        p.add_constraint(sum(A[i, j] * c[j] for j in range(k)) >= 1)\n",
    "\n",
    "    try:\n",
    "        p.solve()\n",
    "        d = p.get_values(c)\n",
    "        return list(d.values())\n",
    "    except:\n",
    "        return []"
   ]
  },
  {
   "cell_type": "markdown",
   "id": "4371dc70-88a0-4bb7-b6a9-26ab266811c1",
   "metadata": {},
   "source": [
    "Example:"
   ]
  },
  {
   "cell_type": "code",
   "execution_count": 13,
   "id": "18202bc9-66e2-4717-b18b-5aed9798beb3",
   "metadata": {},
   "outputs": [
    {
     "data": {
      "text/html": [
       "<html>\\(\\displaystyle \\left[-0.25\\right]\\)</html>"
      ],
      "text/latex": [
       "$\\displaystyle \\left[-0.25\\right]$"
      ],
      "text/plain": [
       "[-0.25]"
      ]
     },
     "execution_count": 13,
     "metadata": {},
     "output_type": "execute_result"
    }
   ],
   "source": [
    "v1 = vector([-4])\n",
    "\n",
    "# List of vectors spanning the subspace\n",
    "vectors = [v1]\n",
    "\n",
    "positive_linear_combination(vectors)"
   ]
  },
  {
   "cell_type": "markdown",
   "id": "83414c37-cea2-44a3-b5be-484d3bb00b12",
   "metadata": {},
   "source": [
    "Example:"
   ]
  },
  {
   "cell_type": "code",
   "execution_count": 14,
   "id": "33ade867-261e-4fcd-aeaf-b571ab775a7e",
   "metadata": {},
   "outputs": [
    {
     "data": {
      "text/html": [
       "<html>\\(\\displaystyle \\left[1.0, -2.0\\right]\\)</html>"
      ],
      "text/latex": [
       "$\\displaystyle \\left[1.0, -2.0\\right]$"
      ],
      "text/plain": [
       "[1.0, -2.0]"
      ]
     },
     "execution_count": 14,
     "metadata": {},
     "output_type": "execute_result"
    }
   ],
   "source": [
    "v1 = vector([1, -1, 0])\n",
    "v2 = vector([0, -1, -1])\n",
    "\n",
    "# List of vectors spanning the subspace\n",
    "vectors = [v1, v2]\n",
    "\n",
    "positive_linear_combination(vectors)"
   ]
  },
  {
   "cell_type": "markdown",
   "id": "3faecb1b-2a41-4436-ae20-4538248f0834",
   "metadata": {},
   "source": [
    "Example:"
   ]
  },
  {
   "cell_type": "code",
   "execution_count": 15,
   "id": "6c8b1d0a-35db-43ad-ab8d-243ba4a9ef8c",
   "metadata": {},
   "outputs": [
    {
     "data": {
      "text/html": [
       "<html>\\(\\displaystyle \\left[\\right]\\)</html>"
      ],
      "text/latex": [
       "$\\displaystyle \\left[\\right]$"
      ],
      "text/plain": [
       "[]"
      ]
     },
     "execution_count": 15,
     "metadata": {},
     "output_type": "execute_result"
    }
   ],
   "source": [
    "v1 = vector([1, -1, 0])\n",
    "v2 = vector([0, 2, 0])\n",
    "\n",
    "# List of vectors spanning the subspace\n",
    "vectors = [v1, v2]\n",
    "\n",
    "positive_linear_combination(vectors)"
   ]
  },
  {
   "cell_type": "markdown",
   "id": "15683841-d1cb-49cc-809c-f59cf260bcd2",
   "metadata": {},
   "source": [
    "The next function checks if the span of a list of vectors intersects the positive octant"
   ]
  },
  {
   "cell_type": "code",
   "execution_count": 16,
   "id": "1eceb09a-8172-487b-984b-9b9a75adaedf",
   "metadata": {},
   "outputs": [],
   "source": [
    "def intersects_positive_octant(vectors):\n",
    "   \n",
    "    p = positive_linear_combination(vectors)\n",
    "    \n",
    "    return len(p) > 0"
   ]
  },
  {
   "cell_type": "markdown",
   "id": "96a7bd50-409e-41c0-a416-17710d906dc1",
   "metadata": {},
   "source": [
    "Example:"
   ]
  },
  {
   "cell_type": "code",
   "execution_count": 17,
   "id": "a8222448-cee8-4b68-b195-b309a28ccb40",
   "metadata": {},
   "outputs": [
    {
     "data": {
      "text/html": [
       "<html>\\(\\displaystyle \\mathrm{False}\\)</html>"
      ],
      "text/latex": [
       "$\\displaystyle \\mathrm{False}$"
      ],
      "text/plain": [
       "False"
      ]
     },
     "execution_count": 17,
     "metadata": {},
     "output_type": "execute_result"
    }
   ],
   "source": [
    "v1 = vector([1, -1, 0])\n",
    "\n",
    "# List of vectors spanning the subspace\n",
    "vectors = [v1]\n",
    "\n",
    "intersects_positive_octant(vectors)"
   ]
  },
  {
   "cell_type": "markdown",
   "id": "6d8c4124-2291-441e-85ef-d322f6cc47be",
   "metadata": {},
   "source": [
    "Example:"
   ]
  },
  {
   "cell_type": "code",
   "execution_count": 18,
   "id": "f155b2a3-d4f3-4c3a-ad2b-5538bc35292a",
   "metadata": {},
   "outputs": [
    {
     "data": {
      "text/html": [
       "<html>\\(\\displaystyle \\mathrm{True}\\)</html>"
      ],
      "text/latex": [
       "$\\displaystyle \\mathrm{True}$"
      ],
      "text/plain": [
       "True"
      ]
     },
     "execution_count": 18,
     "metadata": {},
     "output_type": "execute_result"
    }
   ],
   "source": [
    "v1 = vector([1, -1, 0])\n",
    "v2 = vector([0, -1, -1])\n",
    "\n",
    "vectors = [v1,v2]\n",
    "\n",
    "intersects_positive_octant(vectors)"
   ]
  },
  {
   "cell_type": "markdown",
   "id": "5d1b35fa-f4e3-42eb-9298-b0cfc367f4a6",
   "metadata": {},
   "source": [
    "## Principal submatrices"
   ]
  },
  {
   "cell_type": "markdown",
   "id": "99815bb6-1711-4c6b-9169-e1a6e725ad9d",
   "metadata": {},
   "source": [
    "The next function returns a list of all non-empty subsets of $[0, 1, \\ldots,n-1]$"
   ]
  },
  {
   "cell_type": "code",
   "execution_count": 19,
   "id": "2e743270-8df8-49ff-b5ba-fd53f2d6a82f",
   "metadata": {},
   "outputs": [],
   "source": [
    "from itertools import combinations\n",
    "\n",
    "def powerset(n):\n",
    "    \n",
    "    s = [_ for _ in range(n)]\n",
    "    subsets = []\n",
    "    for r in range(1,n+1):\n",
    "        subsets += [list(x) for x in combinations(s,r)]\n",
    "    return subsets"
   ]
  },
  {
   "cell_type": "markdown",
   "id": "02434d50-603c-422e-bb5a-b35a2d2803da",
   "metadata": {},
   "source": [
    "Example:"
   ]
  },
  {
   "cell_type": "code",
   "execution_count": 20,
   "id": "01ec7abe-f6f2-4953-9eeb-94daff0dea8f",
   "metadata": {},
   "outputs": [
    {
     "data": {
      "text/html": [
       "<html>\\(\\displaystyle \\left[\\left[0\\right], \\left[1\\right], \\left[2\\right], \\left[0, 1\\right], \\left[0, 2\\right], \\left[1, 2\\right], \\left[0, 1, 2\\right]\\right]\\)</html>"
      ],
      "text/latex": [
       "$\\displaystyle \\left[\\left[0\\right], \\left[1\\right], \\left[2\\right], \\left[0, 1\\right], \\left[0, 2\\right], \\left[1, 2\\right], \\left[0, 1, 2\\right]\\right]$"
      ],
      "text/plain": [
       "[[0], [1], [2], [0, 1], [0, 2], [1, 2], [0, 1, 2]]"
      ]
     },
     "execution_count": 20,
     "metadata": {},
     "output_type": "execute_result"
    }
   ],
   "source": [
    "powerset(3)"
   ]
  },
  {
   "cell_type": "markdown",
   "id": "5ccb8248-184b-4e23-9dcf-dfb5d196bc48",
   "metadata": {},
   "source": [
    "The next function returns a list (with no repeated elements) of the principal $(d \\times d)$-submatrices of a given\n",
    "$(n \\times n)$-matrix for all $1 \\leq d \\leq n$"
   ]
  },
  {
   "cell_type": "code",
   "execution_count": 21,
   "id": "cafc04ae-d163-4ad8-847b-b3181835d7de",
   "metadata": {},
   "outputs": [],
   "source": [
    "def principal_submatrices(matrix):\n",
    "    n = matrix.dimensions()[0]\n",
    "    multiindeces = powerset(n)\n",
    "    submatrices = []\n",
    "    for I in multiindeces:\n",
    "        subm = matrix[I,I]\n",
    "        if subm not in submatrices:\n",
    "            submatrices.append(subm)\n",
    "    return submatrices"
   ]
  },
  {
   "cell_type": "markdown",
   "id": "23936824-d89b-4281-b6fa-73c101a51160",
   "metadata": {},
   "source": [
    "In our case of interest, the matrix $Q$ has $216$ different principal submatrices"
   ]
  },
  {
   "cell_type": "code",
   "execution_count": 22,
   "id": "189a0a74-46e7-4cba-a997-ac3d14a61b10",
   "metadata": {},
   "outputs": [
    {
     "data": {
      "text/html": [
       "<html>\\(\\displaystyle 216\\)</html>"
      ],
      "text/latex": [
       "$\\displaystyle 216$"
      ],
      "text/plain": [
       "216"
      ]
     },
     "execution_count": 22,
     "metadata": {},
     "output_type": "execute_result"
    }
   ],
   "source": [
    "prin_submat_Q = principal_submatrices(Q)\n",
    "len(prin_submat_Q)"
   ]
  },
  {
   "cell_type": "markdown",
   "id": "d4a66d9c-a58f-4450-a95e-4465548f4ca8",
   "metadata": {},
   "source": [
    "The first $4$ submatrices of the list are:"
   ]
  },
  {
   "cell_type": "code",
   "execution_count": 23,
   "id": "e94a4f1f-0c42-4a43-9850-7ddfcdf6b5ed",
   "metadata": {},
   "outputs": [
    {
     "data": {
      "text/html": [
       "<html>\\(\\displaystyle \\left[\\left(\\begin{array}{r}\n",
       "-5\n",
       "\\end{array}\\right), \\left(\\begin{array}{r}\n",
       "-2\n",
       "\\end{array}\\right), \\left(\\begin{array}{rr}\n",
       "-5 & 1 \\\\\n",
       "1 & -5\n",
       "\\end{array}\\right), \\left(\\begin{array}{rr}\n",
       "-5 & -2 \\\\\n",
       "-2 & -5\n",
       "\\end{array}\\right)\\right]\\)</html>"
      ],
      "text/latex": [
       "$\\displaystyle \\left[\\left(\\begin{array}{r}\n",
       "-5\n",
       "\\end{array}\\right), \\left(\\begin{array}{r}\n",
       "-2\n",
       "\\end{array}\\right), \\left(\\begin{array}{rr}\n",
       "-5 & 1 \\\\\n",
       "1 & -5\n",
       "\\end{array}\\right), \\left(\\begin{array}{rr}\n",
       "-5 & -2 \\\\\n",
       "-2 & -5\n",
       "\\end{array}\\right)\\right]$"
      ],
      "text/plain": [
       "[\n",
       "            [-5  1]  [-5 -2]\n",
       "[-5], [-2], [ 1 -5], [-2 -5]\n",
       "]"
      ]
     },
     "execution_count": 23,
     "metadata": {},
     "output_type": "execute_result"
    }
   ],
   "source": [
    "prin_submat_Q[:4]"
   ]
  },
  {
   "cell_type": "markdown",
   "id": "6c3c7276-99d6-4144-b035-c12aeddcb5a3",
   "metadata": {},
   "source": [
    "## Maximum of a quadratic form on the positive octant of the unit sphere"
   ]
  },
  {
   "cell_type": "markdown",
   "id": "d7411576-694d-4954-a077-5e58fa6cd577",
   "metadata": {},
   "source": [
    "We implement Theorem 1 in the following function:"
   ]
  },
  {
   "cell_type": "code",
   "execution_count": 24,
   "id": "088b264d-e1f9-4564-8449-f11cd2c67bc9",
   "metadata": {},
   "outputs": [],
   "source": [
    "def max_positive_sphere(matrix):\n",
    "    maxvalue = -oo\n",
    "    submatrices = principal_submatrices(matrix)\n",
    "    for m in submatrices:\n",
    "        eig_m = m.left_eigenvectors()\n",
    "        for e in eig_m:\n",
    "            if e[0] > maxvalue and intersects_positive_octant(e[1]):\n",
    "                maxvalue = e[0]\n",
    "    return maxvalue"
   ]
  },
  {
   "cell_type": "markdown",
   "id": "5ea0a67c-f1ef-4314-b971-6623e4e7cbf9",
   "metadata": {},
   "source": [
    "Example:"
   ]
  },
  {
   "cell_type": "code",
   "execution_count": 25,
   "id": "c3a58861-610e-4238-ae6f-547be1d2f9e7",
   "metadata": {},
   "outputs": [
    {
     "data": {
      "text/html": [
       "<html>\\(\\displaystyle \\left(\\begin{array}{rr}\n",
       "1 & 2 \\\\\n",
       "2 & 1\n",
       "\\end{array}\\right)\\)</html>"
      ],
      "text/latex": [
       "$\\displaystyle \\left(\\begin{array}{rr}\n",
       "1 & 2 \\\\\n",
       "2 & 1\n",
       "\\end{array}\\right)$"
      ],
      "text/plain": [
       "[1 2]\n",
       "[2 1]"
      ]
     },
     "execution_count": 25,
     "metadata": {},
     "output_type": "execute_result"
    }
   ],
   "source": [
    "A = matrix([\n",
    "    [1,2],\n",
    "    [2,1]\n",
    "]); A"
   ]
  },
  {
   "cell_type": "code",
   "execution_count": 26,
   "id": "43b3295d-ea9d-4262-a902-dc4c12b68e1e",
   "metadata": {},
   "outputs": [
    {
     "data": {
      "text/html": [
       "<html>\\(\\displaystyle 3\\)</html>"
      ],
      "text/latex": [
       "$\\displaystyle 3$"
      ],
      "text/plain": [
       "3"
      ]
     },
     "execution_count": 26,
     "metadata": {},
     "output_type": "execute_result"
    }
   ],
   "source": [
    "max_positive_sphere(A)"
   ]
  },
  {
   "cell_type": "markdown",
   "id": "dbd08a13-37c9-4c28-8034-fea1c388118f",
   "metadata": {},
   "source": [
    "**MAIN APPLICATION**"
   ]
  },
  {
   "cell_type": "markdown",
   "id": "463593fd-44a8-42f8-a9bf-27aae5bf8a4a",
   "metadata": {},
   "source": [
    "The maximum of the Hirzebruch quadratic form of the Non-Pappus matroid on the closed positive octant of the unit sphere is $-1$"
   ]
  },
  {
   "cell_type": "code",
   "execution_count": 27,
   "id": "0ad03ef9-8aa7-49d1-927a-51dedfcf9e10",
   "metadata": {},
   "outputs": [
    {
     "data": {
      "text/html": [
       "<html>\\(\\displaystyle -1\\)</html>"
      ],
      "text/latex": [
       "$\\displaystyle -1$"
      ],
      "text/plain": [
       "-1"
      ]
     },
     "execution_count": 27,
     "metadata": {},
     "output_type": "execute_result"
    }
   ],
   "source": [
    "max_positive_sphere(Q)"
   ]
  },
  {
   "cell_type": "markdown",
   "id": "05566465-52fd-49df-bc0c-7ae8d928682a",
   "metadata": {},
   "source": [
    "## The maximum points"
   ]
  },
  {
   "cell_type": "markdown",
   "id": "6797a18a-af8c-4fc7-8541-297a0e3a0358",
   "metadata": {},
   "source": [
    "Now that we know that the maximum is $-1$, we search for the principal submatrices for which $-1$ is a feasible eigenvalue."
   ]
  },
  {
   "cell_type": "markdown",
   "id": "debf2f41-e1b7-448b-9349-a506fd300320",
   "metadata": {},
   "source": [
    "We collect the indices that define these principal submatrices and the corresponding $-1$-eigenvectors."
   ]
  },
  {
   "cell_type": "code",
   "execution_count": 28,
   "id": "f83ed88a-c516-4928-a7dc-5fd18e4cbdc6",
   "metadata": {},
   "outputs": [],
   "source": [
    "max_eigenvectors = []\n",
    "max_indices = []\n",
    "for I in powerset(9):\n",
    "    submatrix = Q[I,I]\n",
    "    eig_submatrix = submatrix.eigenvectors_left()\n",
    "    for e in eig_submatrix:\n",
    "        if e[0] == -1 and intersects_positive_octant(e[1]):\n",
    "            max_eigenvectors.append(e[1])\n",
    "            max_indices.append(I)"
   ]
  },
  {
   "cell_type": "markdown",
   "id": "e968d7ca-e706-4bbf-b8bb-bc0d42d65947",
   "metadata": {},
   "source": [
    "The eigenvectors and indices are:"
   ]
  },
  {
   "cell_type": "code",
   "execution_count": 29,
   "id": "6b042c00-271e-408a-a307-265d172da586",
   "metadata": {},
   "outputs": [
    {
     "data": {
      "text/html": [
       "<html>\\(\\displaystyle \\left[\\left[\\left(1,\\,1,\\,1,\\,1,\\,4\\right)\\right], \\left[\\left(1,\\,1,\\,1,\\,1,\\,4\\right)\\right], \\left[\\left(1,\\,1,\\,1,\\,1,\\,4\\right)\\right]\\right]\\)</html>"
      ],
      "text/latex": [
       "$\\displaystyle \\left[\\left[\\left(1,\\,1,\\,1,\\,1,\\,4\\right)\\right], \\left[\\left(1,\\,1,\\,1,\\,1,\\,4\\right)\\right], \\left[\\left(1,\\,1,\\,1,\\,1,\\,4\\right)\\right]\\right]$"
      ],
      "text/plain": [
       "[[\n",
       " (1, 1, 1, 1, 4)\n",
       " ],\n",
       " [\n",
       " (1, 1, 1, 1, 4)\n",
       " ],\n",
       " [\n",
       " (1, 1, 1, 1, 4)\n",
       " ]]"
      ]
     },
     "execution_count": 29,
     "metadata": {},
     "output_type": "execute_result"
    }
   ],
   "source": [
    "max_eigenvectors"
   ]
  },
  {
   "cell_type": "code",
   "execution_count": 30,
   "id": "76b77e66-b8fb-46cb-9d04-9e19c8753dad",
   "metadata": {},
   "outputs": [
    {
     "data": {
      "text/html": [
       "<html>\\(\\displaystyle \\left[\\left[0, 1, 3, 4, 6\\right], \\left[0, 2, 3, 5, 7\\right], \\left[1, 2, 4, 5, 8\\right]\\right]\\)</html>"
      ],
      "text/latex": [
       "$\\displaystyle \\left[\\left[0, 1, 3, 4, 6\\right], \\left[0, 2, 3, 5, 7\\right], \\left[1, 2, 4, 5, 8\\right]\\right]$"
      ],
      "text/plain": [
       "[[0, 1, 3, 4, 6], [0, 2, 3, 5, 7], [1, 2, 4, 5, 8]]"
      ]
     },
     "execution_count": 30,
     "metadata": {},
     "output_type": "execute_result"
    }
   ],
   "source": [
    "max_indices"
   ]
  },
  {
   "cell_type": "markdown",
   "id": "9343e0a7-b878-4df1-8c59-33a0753884c6",
   "metadata": {},
   "source": [
    "Every component of `max_eigenvectors` is a list consisting of a single vector, i.e., the $-1$-eigenspaces of the corrsponding principal submatrices are $1$ dimensional. This implies that the maximum points of the quadratic form on $\\Delta = \\{\\mathbf{x} \\in\n",
    " \\mathbb{R}^9 \\,|\\, x_i \\geq 0\\} \\cap S^{8}$ are isolated. In our case, there are $3$ maximum points. "
   ]
  },
  {
   "cell_type": "markdown",
   "id": "65462f41-8c07-4cc7-a815-997137e608b6",
   "metadata": {},
   "source": [
    "The correponding points in $\\mathbb{R}^9$ are"
   ]
  },
  {
   "cell_type": "code",
   "execution_count": 31,
   "id": "ccb5609a-1f8c-4847-ac3c-67246c9d52a8",
   "metadata": {},
   "outputs": [],
   "source": [
    "points_R9 = []\n",
    "for i in range(3):\n",
    "    v = [0]*9\n",
    "    positions = max_indices[i]\n",
    "    values = [1,1,1,1,4]\n",
    "    for j in range(5):\n",
    "        k = positions[j]\n",
    "        v[k] = values[j]\n",
    "    v = vector(v)\n",
    "    points_R9.append(v)"
   ]
  },
  {
   "cell_type": "code",
   "execution_count": 32,
   "id": "952f011b-0f72-460d-b0ed-ca6b4660ad92",
   "metadata": {},
   "outputs": [
    {
     "data": {
      "text/html": [
       "<html>\\(\\displaystyle \\left[\\left(1,\\,1,\\,0,\\,1,\\,1,\\,0,\\,4,\\,0,\\,0\\right), \\left(1,\\,0,\\,1,\\,1,\\,0,\\,1,\\,0,\\,4,\\,0\\right), \\left(0,\\,1,\\,1,\\,0,\\,1,\\,1,\\,0,\\,0,\\,4\\right)\\right]\\)</html>"
      ],
      "text/latex": [
       "$\\displaystyle \\left[\\left(1,\\,1,\\,0,\\,1,\\,1,\\,0,\\,4,\\,0,\\,0\\right), \\left(1,\\,0,\\,1,\\,1,\\,0,\\,1,\\,0,\\,4,\\,0\\right), \\left(0,\\,1,\\,1,\\,0,\\,1,\\,1,\\,0,\\,0,\\,4\\right)\\right]$"
      ],
      "text/plain": [
       "[(1, 1, 0, 1, 1, 0, 4, 0, 0),\n",
       " (1, 0, 1, 1, 0, 1, 0, 4, 0),\n",
       " (0, 1, 1, 0, 1, 1, 0, 0, 4)]"
      ]
     },
     "execution_count": 32,
     "metadata": {},
     "output_type": "execute_result"
    }
   ],
   "source": [
    "points_R9"
   ]
  },
  {
   "cell_type": "markdown",
   "id": "bc940bc9-54a7-4be3-866f-e193534790d6",
   "metadata": {},
   "source": [
    "These $3$ vectors have the same norm:"
   ]
  },
  {
   "cell_type": "code",
   "execution_count": 33,
   "id": "8db81201-17f2-4776-96c8-2c3896c8e4dd",
   "metadata": {},
   "outputs": [
    {
     "data": {
      "text/html": [
       "<html>\\(\\displaystyle 2 \\, \\sqrt{5}\\)</html>"
      ],
      "text/latex": [
       "$\\displaystyle 2 \\, \\sqrt{5}$"
      ],
      "text/plain": [
       "2*sqrt(5)"
      ]
     },
     "execution_count": 33,
     "metadata": {},
     "output_type": "execute_result"
    }
   ],
   "source": [
    "a = points_R9[0].norm(); a"
   ]
  },
  {
   "cell_type": "markdown",
   "id": "0969d369-4213-41bc-b070-f76787f35f2f",
   "metadata": {},
   "source": [
    "The maximum points of the quadratic form $q$ on $\\Delta$ are the corresponding unit vectors:\n",
    "$$ \\mathbf{x}_1 = \\frac{1}{2\\sqrt{5}} \\cdot \\left(1,\\,1,\\,0,\\,1,\\,1,\\,0,\\,4,\\,0,\\,0\\right) $$\n",
    "$$ \\mathbf{x}_2 = \\frac{1}{2\\sqrt{5}} \\cdot \\left(1,\\,0,\\,1,\\,1,\\,0,\\,1,\\,0,\\,4,\\,0\\right) $$ \n",
    "$$ \\mathbf{x}_3 =  \\frac{1}{2\\sqrt{5}} \\cdot \\left(0,\\,1,\\,1,\\,0,\\,1,\\,1,\\,0,\\,0,\\,4\\right) $$"
   ]
  },
  {
   "cell_type": "markdown",
   "id": "6c6c6910-2f70-41e1-b368-520563651026",
   "metadata": {},
   "source": [
    "We check that $q(\\mathbf{x}_1) = q(\\mathbf{x}_2) = q(\\mathbf{x}_3) = -1$"
   ]
  },
  {
   "cell_type": "code",
   "execution_count": 34,
   "id": "278e46f7-d6e5-49fb-adea-c483135414b3",
   "metadata": {},
   "outputs": [
    {
     "name": "stdout",
     "output_type": "stream",
     "text": [
      "Value of quadratic form: -1\n",
      "Value of quadratic form: -1\n",
      "Value of quadratic form: -1\n"
     ]
    }
   ],
   "source": [
    "for v in points_R9:\n",
    "    unit_v = v / v.norm()\n",
    "    q_of_unit_v = unit_v * Q * unit_v\n",
    "    print(f\"Value of quadratic form: {q_of_unit_v}\")"
   ]
  },
  {
   "cell_type": "markdown",
   "id": "aa436d30-cf36-4f2a-b3e1-75aa713e8a62",
   "metadata": {},
   "source": [
    "Altogether, we have proved the main result of this notebook:"
   ]
  },
  {
   "cell_type": "markdown",
   "id": "17371b41-44a5-4352-967c-84ada8d8ae65",
   "metadata": {},
   "source": [
    "**Theorem 2:** The maximum value of $q$ on $\\Delta$ is $-1$. \n",
    "Moreover, the maximum is attained at the $3$ points $\\mathbf{x}_1, \\mathbf{x}_2, \\mathbf{x}_3$."
   ]
  },
  {
   "cell_type": "markdown",
   "id": "83b1f514-2c70-4586-9923-720733c18186",
   "metadata": {},
   "source": [
    "## Symmetry"
   ]
  },
  {
   "cell_type": "markdown",
   "id": "a530c455-737f-4396-973f-95c13ce91a3c",
   "metadata": {},
   "source": [
    "The automorphism group of the Non-Pappus matroid is of order $6$. It is the dihedral group $D_3$ (the symmetry group of an equilateral triangle). \n",
    "\n",
    "As a result, the quadratic form $q$ is invariant under the action on $\\mathbb{R}^9$ generated by $f$ and $g$ with\n",
    "\n",
    "$$ f \\left(x_1,\\, x_2,\\, x_3,\\, x_4,\\, x_5,\\, x_6,\\, x_7,\\, x_8,\\, x_9 \\right) = \\left(x_4,\\, x_5,\\, x_6,\\, x_1,\\, x_2,\\, x_3,\\, x_7,\\, x_8,\\, x_9 \\right)$$\n",
    "$$ g \\left(x_1,\\, x_2,\\, x_3,\\, x_4,\\, x_5,\\, x_6,\\, x_7,\\, x_8,\\, x_9 \\right) = \\left(x_2,\\, x_3,\\, x_1,\\, x_5,\\, x_6,\\, x_4,\\, x_9,\\, x_7,\\, x_8 \\right)$$"
   ]
  },
  {
   "cell_type": "markdown",
   "id": "cfc0abf2-7bc7-49dc-a0d8-09e45f37b183",
   "metadata": {},
   "source": [
    "The maximum points $\\mathbf{x}_1, \\mathbf{x}_2, \\mathbf{x}_3$ are invariant by $f$ and cyclically permuted by $g$."
   ]
  },
  {
   "cell_type": "code",
   "execution_count": null,
   "id": "c82b3daa-79f2-448e-b269-08389cd765af",
   "metadata": {},
   "outputs": [],
   "source": []
  }
 ],
 "metadata": {
  "kernelspec": {
   "display_name": "SageMath 10.4",
   "language": "sage",
   "name": "sagemath"
  },
  "language_info": {
   "codemirror_mode": {
    "name": "ipython",
    "version": 3
   },
   "file_extension": ".py",
   "mimetype": "text/x-python",
   "name": "python",
   "nbconvert_exporter": "python",
   "pygments_lexer": "ipython3",
   "version": "3.11.10"
  }
 },
 "nbformat": 4,
 "nbformat_minor": 5
}
